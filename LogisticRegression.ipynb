{
 "cells": [
  {
   "cell_type": "code",
   "execution_count": 33,
   "id": "f93147dc-0a26-4bdf-98c2-31ca85c25131",
   "metadata": {},
   "outputs": [],
   "source": [
    "import torch\n",
    "import torch.nn as nn\n",
    "import torchvision.datasets as dsets\n",
    "import torchvision.transforms as transforms\n",
    "from torch.autograd import Variable\n"
   ]
  },
  {
   "cell_type": "code",
   "execution_count": 34,
   "id": "4c8142c6-6db6-4438-bb54-2ad8aff5b601",
   "metadata": {},
   "outputs": [],
   "source": [
    "# Set the batch size\n",
    "batch_size = 64\n",
    "\n",
    "# MNIST Dataset (Images and Labels)\n",
    "train_dataset = dsets.MNIST(root ='./data', \n",
    "                            train = True, \n",
    "                            transform = transforms.ToTensor(),\n",
    "                            download = True)\n",
    "\n",
    "test_dataset = dsets.MNIST(root ='./data', \n",
    "                           train = False, \n",
    "                           transform = transforms.ToTensor())\n",
    "\n",
    "# Dataset Loader (Input Pipeline)\n",
    "train_loader = torch.utils.data.DataLoader(dataset = train_dataset, \n",
    "                                           batch_size = batch_size, \n",
    "                                           shuffle = True)\n",
    "\n",
    "test_loader = torch.utils.data.DataLoader(dataset = test_dataset, \n",
    "                                          batch_size = batch_size, \n",
    "                                          shuffle = False)\n",
    "\n"
   ]
  },
  {
   "cell_type": "code",
   "execution_count": 35,
   "id": "541869b6-d9b5-4381-9f0a-6b82748150af",
   "metadata": {},
   "outputs": [],
   "source": [
    "# Hyper Parameters \n",
    "input_size = 784\n",
    "num_classes = 10\n",
    "num_epochs = 5\n",
    "batch_size = 100\n",
    "learning_rate = 0.001\n"
   ]
  },
  {
   "cell_type": "code",
   "execution_count": 36,
   "id": "c0e7641c-70af-463b-b987-88ece7363969",
   "metadata": {},
   "outputs": [],
   "source": [
    "class LogisticRegression(nn.Module):\n",
    "    def __init__(self, input_size, num_classes):\n",
    "        super(LogisticRegression, self).__init__()\n",
    "        self.linear = nn.Linear(input_size, num_classes)\n",
    "\n",
    "    def forward(self, x):\n",
    "        out = self.linear(x)\n",
    "        return out\n"
   ]
  },
  {
   "cell_type": "code",
   "execution_count": 37,
   "id": "c38710bc-19c8-4457-a122-b3635fc6ceea",
   "metadata": {},
   "outputs": [],
   "source": [
    "model = LogisticRegression(input_size, num_classes)\n"
   ]
  },
  {
   "cell_type": "code",
   "execution_count": 38,
   "id": "8d990d9f-1778-4564-aba4-9eb7bd1dd35a",
   "metadata": {},
   "outputs": [],
   "source": [
    "criterion = nn.CrossEntropyLoss()\n",
    "optimizer = torch.optim.SGD(model.parameters(), lr = learning_rate)\n"
   ]
  },
  {
   "cell_type": "code",
   "execution_count": 39,
   "id": "4df9d2be-5e96-4bd4-8279-ade9d2293a7b",
   "metadata": {},
   "outputs": [
    {
     "name": "stdout",
     "output_type": "stream",
     "text": [
      "Epoch: [ 1/ 5], Step: [ 100/ 600], Loss: 2.1949\n",
      "Epoch: [ 1/ 5], Step: [ 200/ 600], Loss: 2.1025\n",
      "Epoch: [ 1/ 5], Step: [ 300/ 600], Loss: 2.0380\n",
      "Epoch: [ 1/ 5], Step: [ 400/ 600], Loss: 1.9600\n",
      "Epoch: [ 1/ 5], Step: [ 500/ 600], Loss: 1.8441\n",
      "Epoch: [ 1/ 5], Step: [ 600/ 600], Loss: 1.7806\n",
      "Epoch: [ 1/ 5], Step: [ 700/ 600], Loss: 1.7741\n",
      "Epoch: [ 1/ 5], Step: [ 800/ 600], Loss: 1.6374\n",
      "Epoch: [ 1/ 5], Step: [ 900/ 600], Loss: 1.5426\n",
      "Epoch: [ 2/ 5], Step: [ 100/ 600], Loss: 1.5730\n",
      "Epoch: [ 2/ 5], Step: [ 200/ 600], Loss: 1.5246\n",
      "Epoch: [ 2/ 5], Step: [ 300/ 600], Loss: 1.3564\n",
      "Epoch: [ 2/ 5], Step: [ 400/ 600], Loss: 1.2794\n",
      "Epoch: [ 2/ 5], Step: [ 500/ 600], Loss: 1.2998\n",
      "Epoch: [ 2/ 5], Step: [ 600/ 600], Loss: 1.2630\n",
      "Epoch: [ 2/ 5], Step: [ 700/ 600], Loss: 1.2546\n",
      "Epoch: [ 2/ 5], Step: [ 800/ 600], Loss: 1.2062\n",
      "Epoch: [ 2/ 5], Step: [ 900/ 600], Loss: 1.2192\n",
      "Epoch: [ 3/ 5], Step: [ 100/ 600], Loss: 1.1838\n",
      "Epoch: [ 3/ 5], Step: [ 200/ 600], Loss: 1.1462\n",
      "Epoch: [ 3/ 5], Step: [ 300/ 600], Loss: 1.0990\n",
      "Epoch: [ 3/ 5], Step: [ 400/ 600], Loss: 1.1081\n",
      "Epoch: [ 3/ 5], Step: [ 500/ 600], Loss: 1.1894\n",
      "Epoch: [ 3/ 5], Step: [ 600/ 600], Loss: 1.0889\n",
      "Epoch: [ 3/ 5], Step: [ 700/ 600], Loss: 1.0011\n",
      "Epoch: [ 3/ 5], Step: [ 800/ 600], Loss: 1.0875\n",
      "Epoch: [ 3/ 5], Step: [ 900/ 600], Loss: 1.0068\n",
      "Epoch: [ 4/ 5], Step: [ 100/ 600], Loss: 1.0366\n",
      "Epoch: [ 4/ 5], Step: [ 200/ 600], Loss: 0.8890\n",
      "Epoch: [ 4/ 5], Step: [ 300/ 600], Loss: 1.0110\n",
      "Epoch: [ 4/ 5], Step: [ 400/ 600], Loss: 1.0025\n",
      "Epoch: [ 4/ 5], Step: [ 500/ 600], Loss: 1.0246\n",
      "Epoch: [ 4/ 5], Step: [ 600/ 600], Loss: 0.9032\n",
      "Epoch: [ 4/ 5], Step: [ 700/ 600], Loss: 0.9748\n",
      "Epoch: [ 4/ 5], Step: [ 800/ 600], Loss: 0.8903\n",
      "Epoch: [ 4/ 5], Step: [ 900/ 600], Loss: 0.8683\n",
      "Epoch: [ 5/ 5], Step: [ 100/ 600], Loss: 0.8358\n",
      "Epoch: [ 5/ 5], Step: [ 200/ 600], Loss: 0.9658\n",
      "Epoch: [ 5/ 5], Step: [ 300/ 600], Loss: 0.8852\n",
      "Epoch: [ 5/ 5], Step: [ 400/ 600], Loss: 0.7508\n",
      "Epoch: [ 5/ 5], Step: [ 500/ 600], Loss: 0.8247\n",
      "Epoch: [ 5/ 5], Step: [ 600/ 600], Loss: 0.8340\n",
      "Epoch: [ 5/ 5], Step: [ 700/ 600], Loss: 0.7449\n",
      "Epoch: [ 5/ 5], Step: [ 800/ 600], Loss: 0.8715\n",
      "Epoch: [ 5/ 5], Step: [ 900/ 600], Loss: 0.8079\n"
     ]
    }
   ],
   "source": [
    "# Training the Model \n",
    "for epoch in range(num_epochs): \n",
    "    for i, (images, labels) in enumerate(train_loader): \n",
    "        images = Variable(images.view(-1, 28 * 28)) \n",
    "        labels = Variable(labels) \n",
    "\n",
    "        # Forward + Backward + Optimize \n",
    "        optimizer.zero_grad() \n",
    "        outputs = model(images) \n",
    "        loss = criterion(outputs, labels) \n",
    "        loss.backward() \n",
    "        optimizer.step() \n",
    "\n",
    "        if (i + 1) % 100 == 0: \n",
    "            print('Epoch: [% d/% d], Step: [% d/% d], Loss: %.4f'\n",
    "                % (epoch + 1, num_epochs, i + 1, \n",
    "                    len(train_dataset) // batch_size, loss.item())) # Use loss.item() to get the scalar value\n",
    "\n"
   ]
  },
  {
   "cell_type": "code",
   "execution_count": 40,
   "id": "4e486f18-7dfd-4823-917a-4db15fc49e8c",
   "metadata": {},
   "outputs": [
    {
     "name": "stdout",
     "output_type": "stream",
     "text": [
      "Accuracy of the model on the 10000 test images:  84 %\n"
     ]
    }
   ],
   "source": [
    "# Test the Model\n",
    "correct = 0\n",
    "total = 0\n",
    "for images, labels in test_loader:\n",
    "    images = Variable(images.view(-1, 28 * 28))\n",
    "    outputs = model(images)\n",
    "    _, predicted = torch.max(outputs.data, 1)\n",
    "    total += labels.size(0)\n",
    "    correct += (predicted == labels).sum()\n",
    "\n",
    "print('Accuracy of the model on the 10000 test images: % d %%' % (\n",
    "            100 * correct / total))\n"
   ]
  },
  {
   "cell_type": "code",
   "execution_count": null,
   "id": "7f78dabf-b077-43e4-871a-3840ddd730ab",
   "metadata": {},
   "outputs": [],
   "source": []
  },
  {
   "cell_type": "code",
   "execution_count": null,
   "id": "645faaad-00b7-4971-bcc6-16c127ca1609",
   "metadata": {},
   "outputs": [],
   "source": []
  }
 ],
 "metadata": {
  "kernelspec": {
   "display_name": "Python 3 (ipykernel)",
   "language": "python",
   "name": "python3"
  },
  "language_info": {
   "codemirror_mode": {
    "name": "ipython",
    "version": 3
   },
   "file_extension": ".py",
   "mimetype": "text/x-python",
   "name": "python",
   "nbconvert_exporter": "python",
   "pygments_lexer": "ipython3",
   "version": "3.12.4"
  }
 },
 "nbformat": 4,
 "nbformat_minor": 5
}
